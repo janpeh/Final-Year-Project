{
 "cells": [
  {
   "cell_type": "markdown",
   "metadata": {},
   "source": [
    "<table class=\"table\">\n",
    "    <tr>\n",
    "        <th style=\"text-align:left; vertical-align: middle; width:30%\">\n",
    "            <img src='https://docs.google.com/uc?id=1kF5iiNhcaEXEV9FF7JqN7ZwpqSi_tf_r' style=\"height: 90px; \">\n",
    "        </th>\n",
    "        <th style=\"text-align:right; vertical-align: middle;\">\n",
    "        <font color=blue size = '4' >SMU FYP: Transport Effiency at One North </font>\n",
    "        </th>\n",
    "    </tr>\n",
    "</table>"
   ]
  },
  {
   "cell_type": "markdown",
   "metadata": {},
   "source": [
    "<font size = '5' ><b> Topic Modeling using gensim LDA on Instagram hashtag related to One North. </b></font>\n"
   ]
  },
  {
   "cell_type": "markdown",
   "metadata": {},
   "source": [
    "<font size = '4' ><b> We did Topic Modeling on Instagram Hashtags to extract key themes or topics from the corpus of documents.</b></font>\n",
    " - We used LDA (Latent Dirichlet Allocation) technique to do our topic modeling.  \n",
    " - LDA uses a generative probabilistic model. Each document is represented as a mixture of topics, where topics are represented as distribution of words\n",
    " - It is essentially a text clustering problem, where documents and words are clustered simultaneously\n",
    " - Often used as an exploratory analysis for text data. E.g. reviews, tweets, blogs, articles\n",
    " - Also used for document clustering, feature engineering for text data\n",
    " - Latent Dirichlet Allocation (LDA)"
   ]
  },
  {
   "cell_type": "markdown",
   "metadata": {},
   "source": [
    "Used the following commands to install gensim and pyldavis -\n",
    "\n",
    " - !pip install gensim OR conda install gensim\n",
    " - conda install -c conda-forge pyldavis"
   ]
  },
  {
   "cell_type": "code",
   "execution_count": 2,
   "metadata": {},
   "outputs": [],
   "source": [
    "# Standard dataframe packages\n",
    "import pandas as pd\n",
    "import numpy as np\n",
    "import matplotlib.pyplot as plt\n",
    "\n",
    "from os import path\n",
    "from PIL import Image\n",
    "from wordcloud import WordCloud, STOPWORDS, ImageColorGenerator\n",
    "import matplotlib.pyplot as plt\n",
    "\n",
    "# Text analytics packages\n",
    "import gensim\n",
    "import nltk\n",
    "from sklearn.feature_extraction.text import CountVectorizer\n",
    "\n",
    "# Object serialization package - save the python objects directly to files \n",
    "# Tutorial: https://pythonprogramming.net/python-pickle-module-save-objects-serialization/\n",
    "import pickle"
   ]
  },
  {
   "cell_type": "markdown",
   "metadata": {},
   "source": [
    "###  1. About the data\n",
    "\n",
    "The data used in this analysis is extracted from Twitter, where hashtags are related to One North and its transportation. \n",
    " \n",
    "The data set has been cleaned prior to it being loaded in for analysis. The following has been removed: \n",
    " - Emojis\n",
    " - Non - English Characters \n",
    " - Symbols "
   ]
  },
  {
   "cell_type": "markdown",
   "metadata": {},
   "source": [
    "To read the input pickle file -"
   ]
  },
  {
   "cell_type": "code",
   "execution_count": 29,
   "metadata": {},
   "outputs": [
    {
     "data": {
      "text/plain": [
       "\"Datetime\"     object\n",
       "\"Tweet ID\"    float64\n",
       "Text           object\n",
       "\"Username\"     object\n",
       "Score         float64\n",
       "dtype: object"
      ]
     },
     "execution_count": 29,
     "metadata": {},
     "output_type": "execute_result"
    }
   ],
   "source": [
    "#ig_data = pd.read_csv('UpdatedOneNorthTransport_IGResults_with_Username.csv', header=0, encoding='latin1')\n",
    "#twitter_data = pd.read_csv('twitter_newBus_data.csv', header=0, encoding='utf-8')#twitter_data = pd.read_csv('twitter_newMRT_data.csv', header=0, encoding='utf-8')\n",
    "twitter_data = pd.read_csv('twitter_newMRT_data.csv', header=0, encoding='latin-1')\n",
    "\n",
    "twitter_data.dtypes"
   ]
  },
  {
   "cell_type": "code",
   "execution_count": 30,
   "metadata": {},
   "outputs": [
    {
     "name": "stdout",
     "output_type": "stream",
     "text": [
      "0     \"I think there 2019s a major power fault affec...\n",
      "1     \"I witnessed a similar back-and-forth drama pl...\n",
      "2     \"@kennesu_g the dream of working in one north ...\n",
      "3     \"This old man took mrt at one-North had the ne...\n",
      "4     \"Been working at one-north for two years now, ...\n",
      "5              \"Calm.#flowers @ one-north MRT Station \"\n",
      "6     \"someone once said that one-north is the only ...\n",
      "7     \"I want to be able to climb the stairs at the ...\n",
      "8     \"Still no pedestrian crossing for JTC LaunchPa...\n",
      "9             \"One-north TOP 10 worst MRT stations bad\"\n",
      "10    \"This situation at one-north MRT looked suspic...\n",
      "11    \"Cycling to office from one-north mrt station....\n",
      "12    \"Some MRT stops cn be id-ed by smells tt waft ...\n",
      "13    \"Exiting one-north MRT always feels like a mil...\n",
      "14    \"Exiting at one-north. There's a Subway here (...\n",
      "15    \"Fasting, week 5! There's a Subway at one-nort...\n",
      "16    \"Train delay on the Circle Line has apparently...\n",
      "17    \"Why dont we have a pedestrian crossing betwee...\n",
      "18    \"Little art designs that contribute to a good ...\n",
      "19    \"Post-workout walk walk walk!! @ one-north MRT...\n",
      "20    \"Waah one-north mrt station so nice. Didnt not...\n",
      "21    \"At one-north.mrt station, I will always be gr...\n",
      "22    \"escalators at one-north mrt station is under ...\n",
      "23    \"Digipen is at One-North? That's an MRT statio...\n",
      "24    \"Yet another MRT breakdown, Circle Line servic...\n",
      "25    \"@SMRT_Singapore stuck at bartley mrt station ...\n",
      "26    \"Thank goodness I didn't take MRT coz there's ...\n",
      "27    \"Interesting explanation of art in MRT. (at on...\n",
      "28    \"Bad #mrt train service. Train dumps all passe...\n",
      "29    \"Heading home after my workout! So convenient ...\n",
      "30    \"Taking the Circle Line to One-North! Yay!  @ ...\n",
      "31    \"@moovit singapore provide wrong info for my t...\n",
      "32    \"@nicshields honestly most of it is fine, just...\n",
      "33    \"Idk why im so happy one-north added a new bus...\n",
      "34    \"Fuck One-North and the whole Biopolis area. P...\n",
      "35    \"There is also free shuttle bus services now i...\n",
      "36    \"#circlelinedown images RT @ytbryan: Shuttle b...\n",
      "37    \"Wah Lau. No trains to one-north station. This...\n",
      "38    \"I wonder if the trains r working from bueno v...\n",
      "39    \" Cos at the time of your tweet, I was on the ...\n",
      "40    \" Cos at the time of your tweet, I was on the ...\n",
      "41    \"I rather pay for train fare than taking free ...\n",
      "42    \"So near yet so far. Reached One-north n I'm a...\n",
      "43    So in that journey from Promenade to Haw Par V...\n",
      "44    I think there's a major power fault affecting ...\n",
      "45                  One-north TOP 10 worst MRT stations\n",
      "46    Damn, a private bus got its interior and top h...\n",
      "47     the dream of working in one-north zone, bc it...\n",
      "48    @chicken_guy Still no pedestrian crossing for ...\n",
      "49    Strategically located in one-north near Buona ...\n",
      "50    This old man took mrt at one-North had the ner...\n",
      "51                        Bus catches fire at one-north\n",
      "52                        Bus catches fire at one-north\n",
      "53    Damn, a private bus got its interior and top h...\n",
      "54    moovit singapore provide wrong info for my tri...\n",
      "Name: Text, dtype: object\n",
      "55\n",
      "<class 'pandas.core.frame.DataFrame'>\n"
     ]
    }
   ],
   "source": [
    "sentences = twitter_data['Text']\n",
    "#sentences = ig_data[\"edge_media_to_caption.edges\"]\n",
    " \n",
    "print (sentences)\n",
    "print (len(sentences))\n",
    "print (type (twitter_data))"
   ]
  },
  {
   "cell_type": "markdown",
   "metadata": {},
   "source": [
    "### 2. Text preprocessing using NLTK\n",
    "<b>A function that does the following - </b>\n",
    " - Convert each news text to lower case\n",
    " - Tokenize\n",
    " - Remove stop words\n",
    " - Lemmatization\n",
    " - returns preprocessed list of news documents"
   ]
  },
  {
   "cell_type": "code",
   "execution_count": 5,
   "metadata": {},
   "outputs": [],
   "source": [
    "#create stop words list\n",
    "stop_words = nltk.corpus.stopwords.words('english')\n",
    "\n",
    "#create tokenizer\n",
    "#\\w matches [a-zA-Z0-9_]. This tokenizer splits the string using regular expressions. E.g - '[A-Z]\\w+' will select just the capital words\n",
    "wtk = nltk.tokenize.RegexpTokenizer(r'\\w+')\n",
    "\n",
    "#create lemmatizer\n",
    "wnl = nltk.stem.wordnet.WordNetLemmatizer()\n"
   ]
  },
  {
   "cell_type": "code",
   "execution_count": 6,
   "metadata": {},
   "outputs": [],
   "source": [
    "def process_text(documents):\n",
    "    process_docs = []\n",
    "    doc_tokens = []\n",
    "    for doc in documents:\n",
    "        doc = doc.lower()\n",
    "        doc_tokens = wtk.tokenize(doc)\n",
    "        doc_tokens = [token for token in doc_tokens if token not in stop_words]\n",
    "        #to lemmatize, which is to convert to base word but make sure the word is valid still \n",
    "        doc_tokens = [wnl.lemmatize(token) for token in doc_tokens] #Can try spacy or see how to use the (nltk.pos_tag()) with lemmatizer\n",
    "        #remove those words that has entries of 1 character or null \n",
    "        doc_tokens = [token for token in doc_tokens if len(token) > 1]\n",
    "        process_docs.append(doc_tokens)\n",
    "    return process_docs"
   ]
  },
  {
   "cell_type": "code",
   "execution_count": 7,
   "metadata": {},
   "outputs": [
    {
     "name": "stdout",
     "output_type": "stream",
     "text": [
      "55\n"
     ]
    }
   ],
   "source": [
    "process_twitter_data = process_text(sentences)\n",
    "print(len(process_twitter_data))\n",
    "#print(process_ig_data)"
   ]
  },
  {
   "cell_type": "code",
   "execution_count": 8,
   "metadata": {},
   "outputs": [
    {
     "name": "stdout",
     "output_type": "stream",
     "text": [
      "['think', '2019s', 'major', 'power', 'fault', 'affecting', 'lot', 'mrt', 'line', 'singapore', 'one', 'north', 'station', 'circle', 'line', 'stopped', 'service', 'take', 'note', 'follow', 'smrt_singapore', 'update', 'either', 'angry', 'singaporean', 'tweet', 'hahaha', 'inconvenient']\n",
      "\n",
      "\n",
      "['witnessed', 'similar', 'back', 'forth', 'drama', 'play', 'road', 'crossing', 'one', 'north', 'mrt', 'blk71', 'period', 'almost', 'year', 'it2019s', 'one', 'thing', 'gave', 'faith', 'fellow', 'singaporean', 'commuter']\n",
      "\n",
      "\n",
      "['kennesu_g', 'dream', 'working', 'one', 'north', 'zone', 'bc', 'close', 'house', 'fairly', 'decent', 'area', 'work', 'versus', 'weird', 'industrial', 'area', 'mrt', 'convenient']\n",
      "\n",
      "\n"
     ]
    }
   ],
   "source": [
    "# Print the first 3 captions \n",
    "for i in range(3): \n",
    "    print (process_twitter_data[i])\n",
    "    print (\"\\n\")\n",
    "    \n",
    "\n",
    "    "
   ]
  },
  {
   "cell_type": "code",
   "execution_count": 9,
   "metadata": {},
   "outputs": [],
   "source": [
    "# Keep the processed tokens as a sentence\n",
    "news_sentences = []\n",
    "for i in range(len(process_twitter_data)): \n",
    "    sentence = process_twitter_data[i]\n",
    "    news_sentences.append(' '.join(sentence))\n",
    "\n",
    "#print(new_sentences)"
   ]
  },
  {
   "cell_type": "markdown",
   "metadata": {},
   "source": [
    "### 3. Topic Modeling\n",
    "We have completed the text preprocessing and ready to move on to Topic modeling."
   ]
  },
  {
   "cell_type": "markdown",
   "metadata": {},
   "source": [
    "#### STEP 1 - Create a dictionary representaion\n",
    "`gensim` dictionary assigns an integer id to each unique word in the corpus"
   ]
  },
  {
   "cell_type": "code",
   "execution_count": 10,
   "metadata": {},
   "outputs": [
    {
     "name": "stdout",
     "output_type": "stream",
     "text": [
      "Sample word to id mappings:\n",
      " [(0, '2019s'), (1, 'affecting'), (2, 'angry'), (3, 'circle'), (4, 'either'), (5, 'fault'), (6, 'follow'), (7, 'hahaha'), (8, 'inconvenient'), (9, 'line'), (10, 'lot'), (11, 'major'), (12, 'mrt'), (13, 'north'), (14, 'note'), (15, 'one'), (16, 'power'), (17, 'service'), (18, 'singapore'), (19, 'singaporean'), (20, 'smrt_singapore'), (21, 'station'), (22, 'stopped'), (23, 'take'), (24, 'think'), (25, 'tweet'), (26, 'update'), (27, 'almost'), (28, 'back'), (29, 'blk71'), (30, 'commuter'), (31, 'crossing'), (32, 'drama'), (33, 'faith'), (34, 'fellow'), (35, 'forth'), (36, 'gave'), (37, 'it2019s'), (38, 'period'), (39, 'play'), (40, 'road'), (41, 'similar'), (42, 'thing'), (43, 'witnessed'), (44, 'year'), (45, 'area'), (46, 'bc'), (47, 'close'), (48, 'convenient'), (49, 'decent')]\n",
      "Total Vocabulary Size: 372\n"
     ]
    }
   ],
   "source": [
    "# Create a dictionary representation of the documents. Each word gets an id\n",
    "dictionary = gensim.corpora.Dictionary(process_twitter_data)\n",
    "\n",
    "print('Sample word to id mappings:\\n', list(dictionary.items())[:50])\n",
    "print('Total Vocabulary Size:', len(dictionary))"
   ]
  },
  {
   "cell_type": "markdown",
   "metadata": {},
   "source": [
    "#### STEP 2 -  Set parameters (values depend on the problem and data being used)\n",
    "\n",
    "Next, we filtered the vocabulary based on Frequency. This is so that certain words that are less important or do not help to differentiate the topics are removed.<br>\n",
    "https://radimrehurek.com/gensim/corpora/dictionary.html"
   ]
  },
  {
   "cell_type": "code",
   "execution_count": 11,
   "metadata": {},
   "outputs": [
    {
     "name": "stdout",
     "output_type": "stream",
     "text": [
      "Total Vocabulary Size: 141\n"
     ]
    }
   ],
   "source": [
    "# Use the reference: Filter out words that occur in less than 20 documents, or more than 50% of the documents.\n",
    "dictionary.filter_extremes(no_below=2, no_above=0.2)\n",
    "print('Total Vocabulary Size:', len(dictionary))"
   ]
  },
  {
   "cell_type": "markdown",
   "metadata": {},
   "source": [
    "#### STEP 3 - Create the vector space model (Bag of words model in gensim)\n",
    "Subeseuqently, we run the Bag of Words Model. The function `doc2bow()` will first count the number of occurrences for every unique word and then convert the word to its integer word id. The result as a sparse vector(words from the dictionary not present in the document are not stored in the document vector) is then returned. \n"
   ]
  },
  {
   "cell_type": "code",
   "execution_count": 12,
   "metadata": {},
   "outputs": [],
   "source": [
    "# Transforming corpus into bag of words vectors\n",
    "corpus_vect = [dictionary.doc2bow(text) for text in process_twitter_data]"
   ]
  },
  {
   "cell_type": "markdown",
   "metadata": {},
   "source": [
    "This is how the vector looks like for first few news document:"
   ]
  },
  {
   "cell_type": "code",
   "execution_count": 13,
   "metadata": {},
   "outputs": [
    {
     "name": "stdout",
     "output_type": "stream",
     "text": [
      "Item is  0\n",
      "[(0, 1), (1, 1), (2, 1), (3, 1), (4, 1), (5, 1), (6, 1), (7, 1), (8, 2), (9, 1), (10, 1), (11, 1), (12, 1), (13, 1), (14, 1), (15, 1), (16, 1), (17, 1), (18, 1), (19, 1), (20, 1), (21, 1)]\n",
      "['think', '2019s', 'major', 'power', 'fault', 'affecting', 'lot', 'mrt', 'line', 'singapore', 'one', 'north', 'station', 'circle', 'line', 'stopped', 'service', 'take', 'note', 'follow', 'smrt_singapore', 'update', 'either', 'angry', 'singaporean', 'tweet', 'hahaha', 'inconvenient'] \n",
      "\n",
      "Item is  1\n",
      "[(15, 1), (22, 1), (23, 1), (24, 1), (25, 1)]\n",
      "['witnessed', 'similar', 'back', 'forth', 'drama', 'play', 'road', 'crossing', 'one', 'north', 'mrt', 'blk71', 'period', 'almost', 'year', 'it2019s', 'one', 'thing', 'gave', 'faith', 'fellow', 'singaporean', 'commuter'] \n",
      "\n",
      "Item is  2\n",
      "[(26, 2), (27, 1), (28, 1), (29, 1), (30, 1), (31, 1), (32, 1), (33, 1), (34, 1), (35, 1), (36, 1), (37, 1), (38, 1), (39, 1)]\n",
      "['kennesu_g', 'dream', 'working', 'one', 'north', 'zone', 'bc', 'close', 'house', 'fairly', 'decent', 'area', 'work', 'versus', 'weird', 'industrial', 'area', 'mrt', 'convenient'] \n",
      "\n"
     ]
    }
   ],
   "source": [
    "for i in range(3):\n",
    "    print('Item is ',i)\n",
    "    print(corpus_vect[i])\n",
    "    print(process_twitter_data[i],'\\n')"
   ]
  },
  {
   "cell_type": "code",
   "execution_count": 14,
   "metadata": {},
   "outputs": [
    {
     "name": "stdout",
     "output_type": "stream",
     "text": [
      "22\n",
      "28\n"
     ]
    }
   ],
   "source": [
    "#example vector element\n",
    "#first item in the vector\n",
    "print(len(corpus_vect[0]))\n",
    "print(len(process_twitter_data[0]))\n"
   ]
  },
  {
   "cell_type": "markdown",
   "metadata": {},
   "source": [
    "The output is not the same number as they are not of the same length. This is because we filtered some words from the dictionary and only the words in dictionary are used to form the vector.\n",
    "\n",
    "We will now index the terms and their respective document frequencies into the dictionary. \n",
    "\n",
    "Below shows an example for the first document:\n"
   ]
  },
  {
   "cell_type": "code",
   "execution_count": 15,
   "metadata": {},
   "outputs": [
    {
     "name": "stdout",
     "output_type": "stream",
     "text": [
      "[('affecting', 1), ('angry', 1), ('circle', 1), ('either', 1), ('fault', 1), ('follow', 1), ('hahaha', 1), ('inconvenient', 1), ('line', 2), ('lot', 1), ('major', 1), ('note', 1), ('power', 1), ('service', 1), ('singapore', 1), ('singaporean', 1), ('smrt_singapore', 1), ('stopped', 1), ('take', 1), ('think', 1), ('tweet', 1), ('update', 1)]\n"
     ]
    }
   ],
   "source": [
    "print([(dictionary[id] , freq) for id, freq in corpus_vect[0]])"
   ]
  },
  {
   "cell_type": "markdown",
   "metadata": {},
   "source": [
    "#### STEP 4 - Apply the GENSIM LDA Model\n",
    "\n",
    "`Note: several parameters can be set to fine tune the model. We keep the defaults here.`\n",
    "- https://radimrehurek.com/gensim/models/ldamodel.html. \n",
    "\n",
    "To ensure consistency across devices for comparison, we wil import and use random numbers. \n"
   ]
  },
  {
   "cell_type": "code",
   "execution_count": 16,
   "metadata": {},
   "outputs": [
    {
     "name": "stdout",
     "output_type": "stream",
     "text": [
      "5\n"
     ]
    }
   ],
   "source": [
    "# Understanding random numbers\n",
    "import random\n",
    "\n",
    "#random.seed(1)\n",
    "print(random.randint(0,9))"
   ]
  },
  {
   "cell_type": "code",
   "execution_count": 23,
   "metadata": {},
   "outputs": [],
   "source": [
    "num_topics = 3\n",
    "\n",
    "ldamodel = gensim.models.ldamodel.LdaModel(corpus_vect, num_topics = num_topics, id2word=dictionary, passes=25, random_state= 0)\n"
   ]
  },
  {
   "cell_type": "code",
   "execution_count": 18,
   "metadata": {},
   "outputs": [
    {
     "name": "stdout",
     "output_type": "stream",
     "text": [
      "<class 'gensim.models.ldamodel.LdaModel'>\n"
     ]
    }
   ],
   "source": [
    "print(type(ldamodel))"
   ]
  },
  {
   "cell_type": "markdown",
   "metadata": {},
   "source": [
    "We run the LDA model to obtain the equation, based on the topics generated from above. "
   ]
  },
  {
   "cell_type": "code",
   "execution_count": 29,
   "metadata": {},
   "outputs": [
    {
     "name": "stdout",
     "output_type": "stream",
     "text": [
      "[(0, '0.031*\"line\" + 0.026*\"subway\" + 0.021*\"smrt_singapore\" + 0.021*\"singapore\" + 0.021*\"take\" + 0.021*\"circle\" + 0.021*\"push\" + 0.021*\"full\" + 0.016*\"smell\" + 0.016*\"airport\"'), (1, '0.071*\"train\" + 0.036*\"service\" + 0.036*\"circle\" + 0.036*\"line\" + 0.026*\"co\" + 0.026*\"walk\" + 0.026*\"bishan\" + 0.026*\"shuttle\" + 0.023*\"like\" + 0.021*\"vista\"'), (2, '0.045*\"area\" + 0.030*\"pedestrian\" + 0.023*\"ltasg\" + 0.023*\"got\" + 0.023*\"damn\" + 0.016*\"top\" + 0.016*\"working\" + 0.016*\"catch\" + 0.016*\"near\" + 0.016*\"crossing\"')]\n"
     ]
    }
   ],
   "source": [
    "print(ldamodel.print_topics(num_topics = num_topics, num_words = 10))"
   ]
  },
  {
   "cell_type": "markdown",
   "metadata": {},
   "source": [
    "We then format the topics in print upon receiving the outcome, as seen below. "
   ]
  },
  {
   "cell_type": "code",
   "execution_count": 30,
   "metadata": {},
   "outputs": [
    {
     "name": "stdout",
     "output_type": "stream",
     "text": [
      "0: 0.031*\"line\" + 0.026*\"subway\" + 0.021*\"smrt_singapore\" + 0.021*\"singapore\" + 0.021*\"take\" + 0.021*\"circle\" + 0.021*\"push\" + 0.021*\"full\" + 0.016*\"smell\" + 0.016*\"airport\"\n",
      "1: 0.071*\"train\" + 0.036*\"service\" + 0.036*\"circle\" + 0.036*\"line\" + 0.026*\"co\" + 0.026*\"walk\" + 0.026*\"bishan\" + 0.026*\"shuttle\" + 0.023*\"like\" + 0.021*\"vista\"\n",
      "2: 0.045*\"area\" + 0.030*\"pedestrian\" + 0.023*\"ltasg\" + 0.023*\"got\" + 0.023*\"damn\" + 0.016*\"top\" + 0.016*\"working\" + 0.016*\"catch\" + 0.016*\"near\" + 0.016*\"crossing\"\n"
     ]
    }
   ],
   "source": [
    "#formatting the topics in print\n",
    "for num ,topic in ldamodel.show_topics(formatted=True, num_topics=num_topics, num_words=10):\n",
    "    print(str(num)+\": \"+ topic)"
   ]
  },
  {
   "cell_type": "code",
   "execution_count": 31,
   "metadata": {},
   "outputs": [],
   "source": [
    "#alternatively save the topic word distribution in a list\n",
    "topics = ldamodel.show_topics(formatted=True, num_topics=5, num_words=10)"
   ]
  },
  {
   "cell_type": "code",
   "execution_count": 32,
   "metadata": {},
   "outputs": [
    {
     "name": "stdout",
     "output_type": "stream",
     "text": [
      "(0, '0.031*\"line\" + 0.026*\"subway\" + 0.021*\"smrt_singapore\" + 0.021*\"singapore\" + 0.021*\"take\" + 0.021*\"circle\" + 0.021*\"push\" + 0.021*\"full\" + 0.016*\"smell\" + 0.016*\"airport\"')\n",
      "(1, '0.071*\"train\" + 0.036*\"service\" + 0.036*\"circle\" + 0.036*\"line\" + 0.026*\"co\" + 0.026*\"walk\" + 0.026*\"bishan\" + 0.026*\"shuttle\" + 0.023*\"like\" + 0.021*\"vista\"')\n",
      "(2, '0.045*\"area\" + 0.030*\"pedestrian\" + 0.023*\"ltasg\" + 0.023*\"got\" + 0.023*\"damn\" + 0.016*\"top\" + 0.016*\"working\" + 0.016*\"catch\" + 0.016*\"near\" + 0.016*\"crossing\"')\n"
     ]
    }
   ],
   "source": [
    "#print the topics\n",
    "for i in topics:\n",
    "    print(i)\n"
   ]
  },
  {
   "cell_type": "markdown",
   "metadata": {},
   "source": [
    "#### STEP 5 - Evaluation by Computing the Perplexity and Coherence Score\n",
    "\n",
    "Perplexity measures the uncertainty, where the lower the better. \n",
    "\n",
    "Note: gensim provides log_perplexity(chunk, total_docs=None) which calculates and returns per-word likelihood bound, using a chunk of documents as evaluation corpus(dictionary).\n",
    "\n",
    "perplexity=2^(-bound)\n",
    "\n",
    "Coherence measures \"homogeneity\", where the higher the value, the better. \n",
    "\n",
    "Typically, they are used for comparisons across models. Just by using the values on a single model has little meaning. "
   ]
  },
  {
   "cell_type": "code",
   "execution_count": 23,
   "metadata": {},
   "outputs": [],
   "source": [
    "from gensim.models import CoherenceModel"
   ]
  },
  {
   "cell_type": "code",
   "execution_count": null,
   "metadata": {},
   "outputs": [
    {
     "name": "stdout",
     "output_type": "stream",
     "text": [
      "Perplexity:  13.135572009595863\n"
     ]
    }
   ],
   "source": [
    "log_perplexity = ldamodel.log_perplexity(corpus_vect)\n",
    "perplexity = 2**(-log_perplexity)\n",
    "print('Perplexity: ',perplexity)\n",
    "\n",
    "# Compute Coherence Score\n",
    "coherence_model_lda = CoherenceModel(model=ldamodel, texts=process_twitter_data, dictionary=dictionary, coherence='c_v')\n",
    "coherence_lda = coherence_model_lda.get_coherence()\n",
    "print('\\nCoherence Score: ', coherence_lda)\n",
    "\n",
    "#compare the perplexity and coherence score - highest coherence score = most suitable no of topics "
   ]
  },
  {
   "cell_type": "markdown",
   "metadata": {},
   "source": [
    "We plotted a coherence vs number of topics graph. We found that the suitable number of topics was 4. Hence, we updated the above num_topics value to be 4. "
   ]
  },
  {
   "cell_type": "markdown",
   "metadata": {},
   "source": [
    "#### STEP 6 - Interpretation "
   ]
  },
  {
   "cell_type": "markdown",
   "metadata": {},
   "source": [
    "A) Topic as the distribution over words\n",
    "\n",
    "Let's visualize using Pyladavis"
   ]
  },
  {
   "cell_type": "code",
   "execution_count": 19,
   "metadata": {},
   "outputs": [],
   "source": [
    "import pyLDAvis.gensim"
   ]
  },
  {
   "cell_type": "code",
   "execution_count": 24,
   "metadata": {
    "scrolled": true
   },
   "outputs": [
    {
     "name": "stderr",
     "output_type": "stream",
     "text": [
      "C:\\Users\\Krystal Ong\\Downloads\\Anaconda\\lib\\site-packages\\pyLDAvis\\_prepare.py:257: FutureWarning: Sorting because non-concatenation axis is not aligned. A future version\n",
      "of pandas will change to not sort by default.\n",
      "\n",
      "To accept the future behavior, pass 'sort=True'.\n",
      "\n",
      "To retain the current behavior and silence the warning, pass sort=False\n",
      "\n",
      "  return pd.concat([default_term_info] + list(topic_dfs))\n"
     ]
    },
    {
     "data": {
      "text/html": [
       "\n",
       "<link rel=\"stylesheet\" type=\"text/css\" href=\"https://cdn.rawgit.com/bmabey/pyLDAvis/files/ldavis.v1.0.0.css\">\n",
       "\n",
       "\n",
       "<div id=\"ldavis_el3668426758863417206968022171\"></div>\n",
       "<script type=\"text/javascript\">\n",
       "\n",
       "var ldavis_el3668426758863417206968022171_data = {\"mdsDat\": {\"x\": [0.13373837065205563, -0.15892328752902013, 0.025184916876964645], \"y\": [-0.09446908095913792, -0.055700641077675556, 0.15016972203681353], \"topics\": [1, 2, 3], \"cluster\": [1, 1, 1], \"Freq\": [45.15450668334961, 27.93677520751953, 26.908720016479492]}, \"tinfo\": {\"Category\": [\"Default\", \"Default\", \"Default\", \"Default\", \"Default\", \"Default\", \"Default\", \"Default\", \"Default\", \"Default\", \"Default\", \"Default\", \"Default\", \"Default\", \"Default\", \"Default\", \"Default\", \"Default\", \"Default\", \"Default\", \"Default\", \"Default\", \"Default\", \"Default\", \"Default\", \"Default\", \"Default\", \"Default\", \"Default\", \"Default\", \"Topic1\", \"Topic1\", \"Topic1\", \"Topic1\", \"Topic1\", \"Topic1\", \"Topic1\", \"Topic1\", \"Topic1\", \"Topic1\", \"Topic1\", \"Topic1\", \"Topic1\", \"Topic1\", \"Topic1\", \"Topic1\", \"Topic1\", \"Topic1\", \"Topic1\", \"Topic1\", \"Topic1\", \"Topic1\", \"Topic1\", \"Topic1\", \"Topic1\", \"Topic1\", \"Topic1\", \"Topic1\", \"Topic1\", \"Topic1\", \"Topic1\", \"Topic1\", \"Topic1\", \"Topic1\", \"Topic1\", \"Topic1\", \"Topic1\", \"Topic1\", \"Topic1\", \"Topic1\", \"Topic1\", \"Topic1\", \"Topic1\", \"Topic2\", \"Topic2\", \"Topic2\", \"Topic2\", \"Topic2\", \"Topic2\", \"Topic2\", \"Topic2\", \"Topic2\", \"Topic2\", \"Topic2\", \"Topic2\", \"Topic2\", \"Topic2\", \"Topic2\", \"Topic2\", \"Topic2\", \"Topic2\", \"Topic2\", \"Topic2\", \"Topic2\", \"Topic2\", \"Topic2\", \"Topic2\", \"Topic2\", \"Topic2\", \"Topic2\", \"Topic2\", \"Topic2\", \"Topic2\", \"Topic2\", \"Topic2\", \"Topic2\", \"Topic2\", \"Topic2\", \"Topic2\", \"Topic3\", \"Topic3\", \"Topic3\", \"Topic3\", \"Topic3\", \"Topic3\", \"Topic3\", \"Topic3\", \"Topic3\", \"Topic3\", \"Topic3\", \"Topic3\", \"Topic3\", \"Topic3\", \"Topic3\", \"Topic3\", \"Topic3\", \"Topic3\", \"Topic3\", \"Topic3\", \"Topic3\", \"Topic3\", \"Topic3\", \"Topic3\", \"Topic3\", \"Topic3\", \"Topic3\", \"Topic3\", \"Topic3\", \"Topic3\", \"Topic3\", \"Topic3\", \"Topic3\", \"Topic3\"], \"Freq\": [10.0, 5.0, 4.0, 3.0, 3.0, 3.0, 3.0, 3.0, 3.0, 3.0, 10.0, 2.0, 2.0, 2.0, 2.0, 2.0, 2.0, 2.0, 3.0, 9.0, 3.0, 4.0, 7.0, 4.0, 2.0, 2.0, 2.0, 2.0, 2.0, 2.0, 4.2295684814453125, 4.222029209136963, 2.643411874771118, 2.630798101425171, 8.807547569274902, 6.181631565093994, 1.8503648042678833, 1.8503612279891968, 1.8503562211990356, 1.850355625152588, 1.8503531217575073, 1.8503528833389282, 1.8503526449203491, 1.8503514528274536, 1.850350260734558, 1.8503485918045044, 1.8503485918045044, 1.8503484725952148, 1.8503469228744507, 1.8503464460372925, 1.8503462076187134, 1.8503460884094238, 1.8503462076187134, 1.8503456115722656, 1.8503456115722656, 1.8503440618515015, 1.8503435850143433, 1.8503435850143433, 1.850340723991394, 1.8503401279449463, 7.145456790924072, 3.4737329483032227, 2.649390697479248, 3.6649200916290283, 2.2534122467041016, 2.8790981769561768, 2.362461566925049, 1.8989319801330566, 1.8988395929336548, 1.8839629888534546, 1.8708492517471313, 1.865478754043579, 1.8544238805770874, 10.044907569885254, 5.1252851486206055, 3.0385019779205322, 3.0242531299591064, 2.333712577819824, 2.333596706390381, 2.324493885040283, 2.2997026443481445, 1.6366026401519775, 1.6366026401519775, 1.6366026401519775, 1.6366024017333984, 1.6366024017333984, 1.6366021633148193, 1.6366024017333984, 1.6366020441055298, 1.6366018056869507, 1.6366018056869507, 1.6366013288497925, 1.6363368034362793, 1.6332359313964844, 1.6329501867294312, 1.6329070329666138, 1.6123850345611572, 1.5771321058273315, 1.5762999057769775, 1.5348198413848877, 2.5265328884124756, 2.273538827896118, 1.817203402519226, 2.1183691024780273, 2.1193788051605225, 1.6505658626556396, 1.6492390632629395, 1.646297812461853, 1.639420509338379, 3.649564504623413, 3.0082547664642334, 3.0082478523254395, 3.0082242488861084, 3.0063016414642334, 2.970201253890991, 2.3138480186462402, 2.2711992263793945, 2.259016275405884, 1.6197274923324585, 1.619726538658142, 1.6197261810302734, 1.6197245121002197, 1.619721531867981, 1.619720220565796, 1.6197203397750854, 1.6197187900543213, 1.6197198629379272, 1.6197201013565063, 1.6197197437286377, 1.6197187900543213, 1.6197129487991333, 1.6196519136428833, 1.6196519136428833, 1.6196516752243042, 1.6196486949920654, 1.6190913915634155, 1.6109662055969238, 1.6105473041534424, 1.5967187881469727, 1.8260087966918945, 1.7902770042419434, 1.7423380613327026, 1.6525593996047974], \"Term\": [\"train\", \"area\", \"walk\", \"full\", \"man\", \"push\", \"near\", \"subway\", \"like\", \"working\", \"line\", \"co\", \"damn\", \"good\", \"experience\", \"breakdown\", \"taking\", \"art\", \"vista\", \"circle\", \"smell\", \"singapore\", \"service\", \"pedestrian\", \"slap\", \"face\", \"took\", \"old\", \"cabin\", \"private\", \"singapore\", \"pedestrian\", \"airport\", \"ltasg\", \"line\", \"service\", \"grab\", \"travel\", \"ts6a\", \"stopped\", \"lot\", \"update\", \"follow\", \"moovit\", \"major\", \"wait\", \"affecting\", \"inconvenient\", \"hahaha\", \"note\", \"18051\", \"angry\", \"asked\", \"info\", \"trip\", \"fault\", \"eta\", \"night\", \"think\", \"either\", \"circle\", \"smrt_singapore\", \"crossing\", \"take\", \"catch\", \"shuttle\", \"bishan\", \"last\", \"didnt\", \"10\", \"provide\", \"singaporean\", \"tweet\", \"train\", \"area\", \"like\", \"working\", \"good\", \"experience\", \"taking\", \"art\", \"industrial\", \"dream\", \"close\", \"zone\", \"house\", \"work\", \"weird\", \"bc\", \"fairly\", \"decent\", \"versus\", \"door\", \"passenger\", \"situation\", \"delay\", \"bread\", \"thought\", \"open\", \"get\", \"vista\", \"smell\", \"buona\", \"shuttle\", \"take\", \"commuter\", \"convenient\", \"stop\", \"always\", \"walk\", \"full\", \"man\", \"push\", \"near\", \"subway\", \"co\", \"damn\", \"breakdown\", \"slap\", \"face\", \"took\", \"old\", \"cabin\", \"burned\", \"private\", \"dude\", \"got\", \"interior\", \"half\", \"completely\", \"nerve\", \"peak\", \"time\", \"suck\", \"hour\", \"workout\", \"interesting\", \"cc23\", \"year\", \"bishan\", \"circle\", \"line\", \"top\"], \"Total\": [10.0, 5.0, 4.0, 3.0, 3.0, 3.0, 3.0, 3.0, 3.0, 3.0, 10.0, 2.0, 2.0, 2.0, 2.0, 2.0, 2.0, 2.0, 3.0, 9.0, 3.0, 4.0, 7.0, 4.0, 2.0, 2.0, 2.0, 2.0, 2.0, 2.0, 4.695165157318115, 4.694291591644287, 3.108933448791504, 3.1074702739715576, 10.82029914855957, 7.726409912109375, 2.315821886062622, 2.3158211708068848, 2.3158206939697266, 2.3158206939697266, 2.3158204555511475, 2.3158204555511475, 2.3158204555511475, 2.3158202171325684, 2.3158199787139893, 2.31581974029541, 2.3158199787139893, 2.31581974029541, 2.31581974029541, 2.315819501876831, 2.315819263458252, 2.315819501876831, 2.31581974029541, 2.315819501876831, 2.315819501876831, 2.315819501876831, 2.315819025039673, 2.315819263458252, 2.3158187866210938, 2.3158187866210938, 9.2247953414917, 4.601428508758545, 3.8040716648101807, 6.0326948165893555, 3.0636367797851562, 5.240468502044678, 4.462893486022949, 3.0228865146636963, 3.0228753089904785, 3.020911455154419, 3.0127322673797607, 3.0119857788085938, 3.7048983573913574, 10.550492286682129, 5.64139461517334, 3.5356016159057617, 3.535595178604126, 2.8340909481048584, 2.834092378616333, 2.8357739448547363, 2.8337807655334473, 2.132589817047119, 2.1325900554656982, 2.1325900554656982, 2.1325900554656982, 2.1325900554656982, 2.1325900554656982, 2.1325900554656982, 2.1325900554656982, 2.1325900554656982, 2.1325900554656982, 2.1325900554656982, 2.1326026916503906, 2.1330156326293945, 2.1330270767211914, 2.1330273151397705, 2.134697437286377, 2.132002830505371, 2.1319992542266846, 2.143792152404785, 3.5363001823425293, 3.5282976627349854, 2.8350391387939453, 5.240468502044678, 6.0326948165893555, 2.8275160789489746, 2.8271327018737793, 2.8270153999328613, 2.827296733856201, 4.202793121337891, 3.506805181503296, 3.5068085193634033, 3.5068042278289795, 3.506840229034424, 3.507291078567505, 2.8125271797180176, 2.8154401779174805, 2.8166627883911133, 2.118217706680298, 2.1182174682617188, 2.1182172298431396, 2.118217945098877, 2.118217706680298, 2.1182186603546143, 2.1182186603546143, 2.1182172298431396, 2.1182188987731934, 2.1182188987731934, 2.1182188987731934, 2.1182188987731934, 2.1182188987731934, 2.1182281970977783, 2.1182281970977783, 2.1182281970977783, 2.1182284355163574, 2.118248701095581, 2.118368625640869, 2.1183860301971436, 2.118525981903076, 4.462893486022949, 9.2247953414917, 10.82029914855957, 3.699660301208496], \"loglift\": [30.0, 29.0, 28.0, 27.0, 26.0, 25.0, 24.0, 23.0, 22.0, 21.0, 20.0, 19.0, 18.0, 17.0, 16.0, 15.0, 14.0, 13.0, 12.0, 11.0, 10.0, 9.0, 8.0, 7.0, 6.0, 5.0, 4.0, 3.0, 2.0, 1.0, 0.6905999779701233, 0.6890000104904175, 0.6328999996185303, 0.628600001335144, 0.5892999768257141, 0.5720000267028809, 0.5706999897956848, 0.5706999897956848, 0.5706999897956848, 0.5706999897956848, 0.5706999897956848, 0.5706999897956848, 0.5706999897956848, 0.5706999897956848, 0.5706999897956848, 0.5706999897956848, 0.5706999897956848, 0.5706999897956848, 0.5706999897956848, 0.5706999897956848, 0.5706999897956848, 0.5706999897956848, 0.5706999897956848, 0.5706999897956848, 0.5706999897956848, 0.5706999897956848, 0.5706999897956848, 0.5706999897956848, 0.5706999897956848, 0.5706999897956848, 0.5396999716758728, 0.5138999819755554, 0.4332999885082245, 0.29670000076293945, 0.4878999888896942, 0.19609999656677246, 0.1589999943971634, 0.3301999866962433, 0.33009999990463257, 0.3228999972343445, 0.31859999895095825, 0.3160000145435333, 0.10300000011920929, 1.226099967956543, 1.1792999505996704, 1.1237000226974487, 1.11899995803833, 1.0809999704360962, 1.080899953842163, 1.0764000415802002, 1.0664000511169434, 1.0104999542236328, 1.0104999542236328, 1.0104999542236328, 1.0104999542236328, 1.0104999542236328, 1.0104999542236328, 1.0104999542236328, 1.0104999542236328, 1.0104999542236328, 1.0104999542236328, 1.0104999542236328, 1.0103000402450562, 1.0082999467849731, 1.0081000328063965, 1.0080000162124634, 0.9945999979972839, 0.973800003528595, 0.9732000231742859, 0.941100001335144, 0.9390000104904175, 0.8356999754905701, 0.8305000066757202, 0.3695000112056732, 0.22920000553131104, 0.7368999719619751, 0.736299991607666, 0.734499990940094, 0.7301999926567078, 1.1715999841690063, 1.1593999862670898, 1.1593999862670898, 1.1593999862670898, 1.1586999893188477, 1.1464999914169312, 1.1174999475479126, 1.0979000329971313, 1.0921000242233276, 1.0443999767303467, 1.0443999767303467, 1.0443999767303467, 1.0443999767303467, 1.0443999767303467, 1.0443999767303467, 1.0443999767303467, 1.0443999767303467, 1.0443999767303467, 1.0443999767303467, 1.0443999767303467, 1.0443999767303467, 1.0443999767303467, 1.0443999767303467, 1.0443999767303467, 1.0443999767303467, 1.0442999601364136, 1.0440000295639038, 1.0389000177383423, 1.038599967956543, 1.0299999713897705, 0.41909998655319214, -0.32679998874664307, -0.5134999752044678, 0.5067999958992004], \"logprob\": [30.0, 29.0, 28.0, 27.0, 26.0, 25.0, 24.0, 23.0, 22.0, 21.0, 20.0, 19.0, 18.0, 17.0, 16.0, 15.0, 14.0, 13.0, 12.0, 11.0, 10.0, 9.0, 8.0, 7.0, 6.0, 5.0, 4.0, 3.0, 2.0, 1.0, -3.746799945831299, -3.748500108718872, -4.216800212860107, -4.22160005569458, -3.013200044631958, -3.367300033569336, -4.573500156402588, -4.573500156402588, -4.573500156402588, -4.573500156402588, -4.573500156402588, -4.573500156402588, -4.573500156402588, -4.573500156402588, -4.573500156402588, -4.573500156402588, -4.573500156402588, -4.573500156402588, -4.573500156402588, -4.573500156402588, -4.573500156402588, -4.573500156402588, -4.573500156402588, -4.573500156402588, -4.573500156402588, -4.573500156402588, -4.573500156402588, -4.573500156402588, -4.573500156402588, -4.573500156402588, -3.222399950027466, -3.9435999393463135, -4.2144999504089355, -3.890000104904175, -4.376399993896484, -4.131400108337402, -4.32919979095459, -4.547599792480469, -4.547599792480469, -4.555500030517578, -4.5625, -4.565299987792969, -4.571300029754639, -2.401599884033203, -3.07450008392334, -3.5973000526428223, -3.6019999980926514, -3.8612000942230225, -3.861299991607666, -3.8652000427246094, -3.8759000301361084, -4.216100215911865, -4.216100215911865, -4.216100215911865, -4.216100215911865, -4.216100215911865, -4.216100215911865, -4.216100215911865, -4.216100215911865, -4.216100215911865, -4.216100215911865, -4.216100215911865, -4.21619987487793, -4.218100070953369, -4.218299865722656, -4.218299865722656, -4.230999946594238, -4.2530999183654785, -4.253600120544434, -4.280300140380859, -3.781899929046631, -3.887399911880493, -4.111400127410889, -3.9581000804901123, -3.9576001167297363, -4.207600116729736, -4.208399772644043, -4.21019983291626, -4.214399814605713, -3.3766000270843506, -3.5699000358581543, -3.5699000358581543, -3.5699000358581543, -3.570499897003174, -3.5826001167297363, -3.8322999477386475, -3.8508999347686768, -3.856300115585327, -4.189000129699707, -4.189000129699707, -4.189000129699707, -4.189000129699707, -4.189000129699707, -4.189000129699707, -4.189000129699707, -4.189000129699707, -4.189000129699707, -4.189000129699707, -4.189000129699707, -4.189000129699707, -4.189000129699707, -4.189000129699707, -4.189000129699707, -4.189000129699707, -4.189000129699707, -4.1894001960754395, -4.194399833679199, -4.1946001052856445, -4.2032999992370605, -4.0690999031066895, -4.088799953460693, -4.116000175476074, -4.168900012969971]}, \"token.table\": {\"Topic\": [1, 2, 1, 1, 1, 2, 3, 1, 2, 2, 1, 2, 1, 3, 2, 3, 2, 3, 3, 3, 1, 2, 3, 1, 3, 2, 3, 2, 3, 3, 2, 3, 1, 3, 3, 2, 2, 1, 2, 2, 2, 3, 1, 1, 2, 3, 2, 1, 1, 3, 2, 2, 3, 1, 1, 3, 3, 2, 1, 2, 1, 3, 3, 1, 2, 2, 1, 3, 1, 1, 1, 3, 1, 3, 3, 1, 1, 3, 2, 2, 3, 1, 3, 1, 3, 3, 1, 2, 1, 2, 1, 1, 3, 2, 3, 2, 3, 1, 3, 2, 3, 1, 3, 3, 1, 2, 2, 1, 2, 3, 3, 1, 3, 2, 1, 1, 1, 1, 3, 1, 2, 2, 3, 1, 3, 2, 2, 2, 3, 3, 2], \"Freq\": [0.6620518565177917, 0.3310259282588959, 0.8636252284049988, 0.8636249899864197, 0.9649611711502075, 0.7073894739151001, 0.35369473695755005, 0.863625168800354, 0.8863056898117065, 0.7057709097862244, 0.8636250495910645, 0.9378267526626587, 0.4481397569179535, 0.4481397569179535, 0.9369009137153625, 0.7100601196289062, 0.7054576277732849, 0.35272881388664246, 0.9441896080970764, 0.9441900253295898, 0.6528189182281494, 0.3264094591140747, 0.9441149830818176, 0.7588244080543518, 0.21680697798728943, 0.9378267526626587, 0.7111042141914368, 0.7073346376419067, 0.35366731882095337, 0.9441894888877869, 0.7074305415153503, 0.35371527075767517, 0.7886286973953247, 0.2628762125968933, 0.7103685140609741, 0.9378267526626587, 0.9376345276832581, 0.6616217494010925, 0.33081087470054626, 0.9378212094306946, 0.9378267526626587, 0.9441902041435242, 0.8636254072189331, 0.8636253476142883, 0.7056933045387268, 0.9441901445388794, 0.9378267526626587, 0.863625168800354, 0.8636248111724854, 0.8554795384407043, 0.9329262375831604, 0.7056936621665955, 0.9441894888877869, 0.8636242747306824, 0.8636250495910645, 0.9441894888877869, 0.9441852569580078, 0.9378267526626587, 0.8636250495910645, 0.9378268718719482, 0.863625168800354, 0.9441227316856384, 0.9441894888877869, 0.6616193056106567, 0.33080965280532837, 0.8485118746757507, 0.8317700028419495, 0.18483777344226837, 0.8636248111724854, 0.9654155373573303, 0.8636249899864197, 0.8554787039756775, 0.8636248707771301, 0.8554709553718567, 0.9441894888877869, 0.8636252284049988, 0.863625168800354, 0.9441899061203003, 0.9380866289138794, 0.9376396536827087, 0.9441853165626526, 0.8520987629890442, 0.9441896080970764, 0.6638492345809937, 0.3319246172904968, 0.8554797768592834, 0.7765573263168335, 0.12942621111869812, 0.5724679231643677, 0.3816452622413635, 0.8519402146339417, 0.6640137434005737, 0.33200687170028687, 0.9376345872879028, 0.9441900253295898, 0.5668455958366394, 0.2834227979183197, 0.6519714593887329, 0.21732380986213684, 0.7074598670005798, 0.3537299335002899, 0.8636246919631958, 0.8553609848022461, 0.9441853165626526, 0.663053572177887, 0.3315267860889435, 0.7052748203277588, 0.8636254072189331, 0.9380850791931152, 0.9441853165626526, 0.9441902041435242, 0.5405901670455933, 0.5405901670455933, 0.9478230476379395, 0.8636245131492615, 0.863625168800354, 0.8636246919631958, 0.5398258566856384, 0.5398258566856384, 0.8636248111724854, 0.9378267526626587, 0.8483442664146423, 0.2827814221382141, 0.8636250495910645, 0.9517480134963989, 0.9378267526626587, 0.9378267526626587, 0.8485134243965149, 0.944176197052002, 0.9440526366233826, 0.9378267526626587], \"Term\": [\"10\", \"10\", \"18051\", \"affecting\", \"airport\", \"always\", \"always\", \"angry\", \"area\", \"art\", \"asked\", \"bc\", \"bishan\", \"bishan\", \"bread\", \"breakdown\", \"buona\", \"buona\", \"burned\", \"cabin\", \"catch\", \"catch\", \"cc23\", \"circle\", \"circle\", \"close\", \"co\", \"commuter\", \"commuter\", \"completely\", \"convenient\", \"convenient\", \"crossing\", \"crossing\", \"damn\", \"decent\", \"delay\", \"didnt\", \"didnt\", \"door\", \"dream\", \"dude\", \"either\", \"eta\", \"experience\", \"face\", \"fairly\", \"fault\", \"follow\", \"full\", \"get\", \"good\", \"got\", \"grab\", \"hahaha\", \"half\", \"hour\", \"house\", \"inconvenient\", \"industrial\", \"info\", \"interesting\", \"interior\", \"last\", \"last\", \"like\", \"line\", \"line\", \"lot\", \"ltasg\", \"major\", \"man\", \"moovit\", \"near\", \"nerve\", \"night\", \"note\", \"old\", \"open\", \"passenger\", \"peak\", \"pedestrian\", \"private\", \"provide\", \"provide\", \"push\", \"service\", \"service\", \"shuttle\", \"shuttle\", \"singapore\", \"singaporean\", \"singaporean\", \"situation\", \"slap\", \"smell\", \"smell\", \"smrt_singapore\", \"smrt_singapore\", \"stop\", \"stop\", \"stopped\", \"subway\", \"suck\", \"take\", \"take\", \"taking\", \"think\", \"thought\", \"time\", \"took\", \"top\", \"top\", \"train\", \"travel\", \"trip\", \"ts6a\", \"tweet\", \"tweet\", \"update\", \"versus\", \"vista\", \"vista\", \"wait\", \"walk\", \"weird\", \"work\", \"working\", \"workout\", \"year\", \"zone\"]}, \"R\": 30, \"lambda.step\": 0.01, \"plot.opts\": {\"xlab\": \"PC1\", \"ylab\": \"PC2\"}, \"topic.order\": [1, 3, 2]};\n",
       "\n",
       "function LDAvis_load_lib(url, callback){\n",
       "  var s = document.createElement('script');\n",
       "  s.src = url;\n",
       "  s.async = true;\n",
       "  s.onreadystatechange = s.onload = callback;\n",
       "  s.onerror = function(){console.warn(\"failed to load library \" + url);};\n",
       "  document.getElementsByTagName(\"head\")[0].appendChild(s);\n",
       "}\n",
       "\n",
       "if(typeof(LDAvis) !== \"undefined\"){\n",
       "   // already loaded: just create the visualization\n",
       "   !function(LDAvis){\n",
       "       new LDAvis(\"#\" + \"ldavis_el3668426758863417206968022171\", ldavis_el3668426758863417206968022171_data);\n",
       "   }(LDAvis);\n",
       "}else if(typeof define === \"function\" && define.amd){\n",
       "   // require.js is available: use it to load d3/LDAvis\n",
       "   require.config({paths: {d3: \"https://cdnjs.cloudflare.com/ajax/libs/d3/3.5.5/d3.min\"}});\n",
       "   require([\"d3\"], function(d3){\n",
       "      window.d3 = d3;\n",
       "      LDAvis_load_lib(\"https://cdn.rawgit.com/bmabey/pyLDAvis/files/ldavis.v1.0.0.js\", function(){\n",
       "        new LDAvis(\"#\" + \"ldavis_el3668426758863417206968022171\", ldavis_el3668426758863417206968022171_data);\n",
       "      });\n",
       "    });\n",
       "}else{\n",
       "    // require.js not available: dynamically load d3 & LDAvis\n",
       "    LDAvis_load_lib(\"https://cdnjs.cloudflare.com/ajax/libs/d3/3.5.5/d3.min.js\", function(){\n",
       "         LDAvis_load_lib(\"https://cdn.rawgit.com/bmabey/pyLDAvis/files/ldavis.v1.0.0.js\", function(){\n",
       "                 new LDAvis(\"#\" + \"ldavis_el3668426758863417206968022171\", ldavis_el3668426758863417206968022171_data);\n",
       "            })\n",
       "         });\n",
       "}\n",
       "</script>"
      ],
      "text/plain": [
       "PreparedData(topic_coordinates=              x         y  topics  cluster       Freq\n",
       "topic                                                \n",
       "0      0.133738 -0.094469       1        1  45.154507\n",
       "2     -0.158923 -0.055701       2        1  27.936775\n",
       "1      0.025185  0.150170       3        1  26.908720, topic_info=     Category       Freq         Term      Total  loglift  logprob\n",
       "term                                                              \n",
       "77    Default  10.000000        train  10.000000  30.0000  30.0000\n",
       "26    Default   5.000000         area   5.000000  29.0000  29.0000\n",
       "90    Default   4.000000         walk   4.000000  28.0000  28.0000\n",
       "43    Default   3.000000         full   3.000000  27.0000  27.0000\n",
       "44    Default   3.000000          man   3.000000  26.0000  26.0000\n",
       "47    Default   3.000000         push   3.000000  25.0000  25.0000\n",
       "133   Default   3.000000         near   3.000000  24.0000  24.0000\n",
       "82    Default   3.000000       subway   3.000000  23.0000  23.0000\n",
       "50    Default   3.000000         like   3.000000  22.0000  22.0000\n",
       "38    Default   3.000000      working   3.000000  21.0000  21.0000\n",
       "8     Default  10.000000         line  10.000000  20.0000  20.0000\n",
       "127   Default   2.000000           co   2.000000  19.0000  19.0000\n",
       "123   Default   2.000000         damn   2.000000  18.0000  18.0000\n",
       "84    Default   2.000000         good   2.000000  17.0000  17.0000\n",
       "80    Default   2.000000   experience   2.000000  16.0000  16.0000\n",
       "95    Default   2.000000    breakdown   2.000000  15.0000  15.0000\n",
       "101   Default   2.000000       taking   2.000000  14.0000  14.0000\n",
       "71    Default   2.000000          art   2.000000  13.0000  13.0000\n",
       "89    Default   3.000000        vista   3.000000  12.0000  12.0000\n",
       "2     Default   9.000000       circle   9.000000  11.0000  11.0000\n",
       "75    Default   3.000000        smell   3.000000  10.0000  10.0000\n",
       "14    Default   4.000000    singapore   4.000000   9.0000   9.0000\n",
       "13    Default   7.000000      service   7.000000   8.0000   8.0000\n",
       "62    Default   4.000000   pedestrian   4.000000   7.0000   7.0000\n",
       "48    Default   2.000000         slap   2.000000   6.0000   6.0000\n",
       "42    Default   2.000000         face   2.000000   5.0000   5.0000\n",
       "49    Default   2.000000         took   2.000000   4.0000   4.0000\n",
       "46    Default   2.000000          old   2.000000   3.0000   3.0000\n",
       "40    Default   2.000000        cabin   2.000000   2.0000   2.0000\n",
       "139   Default   2.000000      private   2.000000   1.0000   1.0000\n",
       "...       ...        ...          ...        ...      ...      ...\n",
       "133    Topic3   3.006302         near   3.506840   1.1587  -3.5705\n",
       "82     Topic3   2.970201       subway   3.507291   1.1465  -3.5826\n",
       "127    Topic3   2.313848           co   2.812527   1.1175  -3.8323\n",
       "123    Topic3   2.271199         damn   2.815440   1.0979  -3.8509\n",
       "95     Topic3   2.259016    breakdown   2.816663   1.0921  -3.8563\n",
       "48     Topic3   1.619727         slap   2.118218   1.0444  -4.1890\n",
       "42     Topic3   1.619727         face   2.118217   1.0444  -4.1890\n",
       "49     Topic3   1.619726         took   2.118217   1.0444  -4.1890\n",
       "46     Topic3   1.619725          old   2.118218   1.0444  -4.1890\n",
       "40     Topic3   1.619722        cabin   2.118218   1.0444  -4.1890\n",
       "134    Topic3   1.619720       burned   2.118219   1.0444  -4.1890\n",
       "139    Topic3   1.619720      private   2.118219   1.0444  -4.1890\n",
       "41     Topic3   1.619719         dude   2.118217   1.0444  -4.1890\n",
       "136    Topic3   1.619720          got   2.118219   1.0444  -4.1890\n",
       "138    Topic3   1.619720     interior   2.118219   1.0444  -4.1890\n",
       "137    Topic3   1.619720         half   2.118219   1.0444  -4.1890\n",
       "135    Topic3   1.619719   completely   2.118219   1.0444  -4.1890\n",
       "45     Topic3   1.619713        nerve   2.118219   1.0444  -4.1890\n",
       "129    Topic3   1.619652         peak   2.118228   1.0444  -4.1890\n",
       "131    Topic3   1.619652         time   2.118228   1.0444  -4.1890\n",
       "130    Topic3   1.619652         suck   2.118228   1.0444  -4.1890\n",
       "128    Topic3   1.619649         hour   2.118228   1.0443  -4.1890\n",
       "91     Topic3   1.619091      workout   2.118249   1.0440  -4.1894\n",
       "81     Topic3   1.610966  interesting   2.118369   1.0389  -4.1944\n",
       "99     Topic3   1.610547         cc23   2.118386   1.0386  -4.1946\n",
       "25     Topic3   1.596719         year   2.118526   1.0300  -4.2033\n",
       "94     Topic3   1.826009       bishan   4.462893   0.4191  -4.0691\n",
       "2      Topic3   1.790277       circle   9.224795  -0.3268  -4.0888\n",
       "8      Topic3   1.742338         line  10.820299  -0.5135  -4.1160\n",
       "69     Topic3   1.652559          top   3.699660   0.5068  -4.1689\n",
       "\n",
       "[143 rows x 6 columns], token_table=      Topic      Freq        Term\n",
       "term                             \n",
       "68        1  0.662052          10\n",
       "68        2  0.331026          10\n",
       "102       1  0.863625       18051\n",
       "0         1  0.863625   affecting\n",
       "106       1  0.964961     airport\n",
       "78        2  0.707389      always\n",
       "78        3  0.353695      always\n",
       "1         1  0.863625       angry\n",
       "26        2  0.886306        area\n",
       "71        2  0.705771         art\n",
       "108       1  0.863625       asked\n",
       "27        2  0.937827          bc\n",
       "94        1  0.448140      bishan\n",
       "94        3  0.448140      bishan\n",
       "83        2  0.936901       bread\n",
       "95        3  0.710060   breakdown\n",
       "86        2  0.705458       buona\n",
       "86        3  0.352729       buona\n",
       "134       3  0.944190      burned\n",
       "40        3  0.944190       cabin\n",
       "126       1  0.652819       catch\n",
       "126       2  0.326409       catch\n",
       "99        3  0.944115        cc23\n",
       "2         1  0.758824      circle\n",
       "2         3  0.216807      circle\n",
       "28        2  0.937827       close\n",
       "127       3  0.711104          co\n",
       "23        2  0.707335    commuter\n",
       "23        3  0.353667    commuter\n",
       "135       3  0.944189  completely\n",
       "...     ...       ...         ...\n",
       "17        1  0.863625     stopped\n",
       "82        3  0.855361      subway\n",
       "130       3  0.944185        suck\n",
       "18        1  0.663054        take\n",
       "18        2  0.331527        take\n",
       "101       2  0.705275      taking\n",
       "19        1  0.863625       think\n",
       "98        2  0.938085     thought\n",
       "131       3  0.944185        time\n",
       "49        3  0.944190        took\n",
       "69        1  0.540590         top\n",
       "69        3  0.540590         top\n",
       "77        2  0.947823       train\n",
       "118       1  0.863625      travel\n",
       "119       1  0.863625        trip\n",
       "120       1  0.863625        ts6a\n",
       "20        1  0.539826       tweet\n",
       "20        3  0.539826       tweet\n",
       "21        1  0.863625      update\n",
       "35        2  0.937827      versus\n",
       "89        2  0.848344       vista\n",
       "89        3  0.282781       vista\n",
       "121       1  0.863625        wait\n",
       "90        3  0.951748        walk\n",
       "36        2  0.937827       weird\n",
       "37        2  0.937827        work\n",
       "38        2  0.848513     working\n",
       "91        3  0.944176     workout\n",
       "25        3  0.944053        year\n",
       "39        2  0.937827        zone\n",
       "\n",
       "[131 rows x 3 columns], R=30, lambda_step=0.01, plot_opts={'xlab': 'PC1', 'ylab': 'PC2'}, topic_order=[1, 3, 2])"
      ]
     },
     "execution_count": 24,
     "metadata": {},
     "output_type": "execute_result"
    }
   ],
   "source": [
    "pyLDAvis.enable_notebook()\n",
    "pyLDAvis.gensim.prepare(ldamodel, corpus_vect, dictionary)\n"
   ]
  },
  {
   "cell_type": "markdown",
   "metadata": {},
   "source": [
    "# Sentiment Analysis"
   ]
  },
  {
   "cell_type": "code",
   "execution_count": 24,
   "metadata": {},
   "outputs": [
    {
     "name": "stdout",
     "output_type": "stream",
     "text": [
      "0     Full Time Tea Barista: Tea Tree Cafe Ptd Ltd L...\n",
      "1                         Bus catches fire at one-north\n",
      "2                         Bus catches fire at one-north\n",
      "3     Damn, a private bus got its interior and top h...\n",
      "4     moovit singapore provide wrong info for my tri...\n",
      "5     I hope we are able to get this apartment near ...\n",
      "6     lyf one-north Singapore, offers 324 units for ...\n",
      "7     Bus Service 191 will skip 9 bus stops in the o...\n",
      "8     Auto Retweet SBSTransit_Ltd *AUTO SCRIPT,MAY B...\n",
      "9     [Notice-SBS] Service 191 to skip bus stops alo...\n",
      "10    Service 191 to skip bus stops along Media Circ...\n",
      "11    After 34 years of operations, Ayer Rajah Bus P...\n",
      "12    New Transtar Cross-Border Bus Service TS6 enab...\n",
      "13    Bus Service 191 will be diverted from 5:30am t...\n",
      "14    [Notice-SBS] Service 191 will skip bus stops a...\n",
      "15    Service 191 will skip bus stops along Portsdow...\n",
      "Name: \"Text\", dtype: object\n"
     ]
    }
   ],
   "source": [
    "# actually same csv file as above\n",
    "bdata = pd.read_csv('twitter_newBus_data.csv', header=0, encoding='utf8')\n",
    "sentences = bdata['\"Text\"']\n",
    "print (sentences)"
   ]
  },
  {
   "cell_type": "code",
   "execution_count": 25,
   "metadata": {},
   "outputs": [],
   "source": [
    "from textblob import TextBlob"
   ]
  },
  {
   "cell_type": "code",
   "execution_count": 26,
   "metadata": {},
   "outputs": [],
   "source": [
    "for i in range(len(bdata)):\n",
    "    scoresTB = TextBlob(sentences.iloc[i]).sentiment\n",
    "    #print(scoresTB)"
   ]
  },
  {
   "cell_type": "code",
   "execution_count": 27,
   "metadata": {},
   "outputs": [
    {
     "name": "stderr",
     "output_type": "stream",
     "text": [
      "C:\\Users\\Krystal Ong\\Downloads\\Anaconda\\lib\\site-packages\\nltk\\twitter\\__init__.py:20: UserWarning: The twython library has not been installed. Some functionality from the twitter package will not be available.\n",
      "  warnings.warn(\"The twython library has not been installed. \"\n"
     ]
    }
   ],
   "source": [
    "from nltk.sentiment.vader import SentimentIntensityAnalyzer"
   ]
  },
  {
   "cell_type": "code",
   "execution_count": 28,
   "metadata": {},
   "outputs": [
    {
     "name": "stdout",
     "output_type": "stream",
     "text": [
      "<nltk.sentiment.vader.SentimentIntensityAnalyzer object at 0x0000017F201C00B8>\n"
     ]
    }
   ],
   "source": [
    "analyzer = SentimentIntensityAnalyzer()\n",
    "print (analyzer)"
   ]
  },
  {
   "cell_type": "code",
   "execution_count": 29,
   "metadata": {},
   "outputs": [
    {
     "name": "stdout",
     "output_type": "stream",
     "text": [
      "{'neg': 0.0, 'neu': 0.934, 'pos': 0.066, 'compound': 0.3818}\n",
      "{'neg': 0.375, 'neu': 0.625, 'pos': 0.0, 'compound': -0.34}\n",
      "{'neg': 0.375, 'neu': 0.625, 'pos': 0.0, 'compound': -0.34}\n",
      "{'neg': 0.146, 'neu': 0.757, 'pos': 0.097, 'compound': -0.2263}\n",
      "{'neg': 0.067, 'neu': 0.933, 'pos': 0.0, 'compound': -0.4767}\n",
      "{'neg': 0.0, 'neu': 0.909, 'pos': 0.091, 'compound': 0.4404}\n",
      "{'neg': 0.078, 'neu': 0.922, 'pos': 0.0, 'compound': -0.296}\n",
      "{'neg': 0.078, 'neu': 0.922, 'pos': 0.0, 'compound': -0.1531}\n",
      "{'neg': 0.039, 'neu': 0.961, 'pos': 0.0, 'compound': -0.1531}\n",
      "{'neg': 0.052, 'neu': 0.948, 'pos': 0.0, 'compound': -0.1531}\n",
      "{'neg': 0.058, 'neu': 0.942, 'pos': 0.0, 'compound': -0.1531}\n",
      "{'neg': 0.0, 'neu': 1.0, 'pos': 0.0, 'compound': 0.0}\n",
      "{'neg': 0.0, 'neu': 1.0, 'pos': 0.0, 'compound': 0.0}\n",
      "{'neg': 0.0, 'neu': 1.0, 'pos': 0.0, 'compound': 0.0}\n",
      "{'neg': 0.052, 'neu': 0.948, 'pos': 0.0, 'compound': -0.1531}\n",
      "{'neg': 0.058, 'neu': 0.942, 'pos': 0.0, 'compound': -0.1531}\n"
     ]
    }
   ],
   "source": [
    "for i in range(len(sentences)):\n",
    "    scores = analyzer.polarity_scores(sentences.iloc[i])\n",
    "    print (scores)\n",
    "#proportion of words in negative, neutral, etc"
   ]
  },
  {
   "cell_type": "code",
   "execution_count": 30,
   "metadata": {},
   "outputs": [],
   "source": [
    "#Printing the sentiment nicely in a table format. \n",
    "my_vader_score_compound = [ ] \n",
    "my_vader_score_positive = [ ] \n",
    "my_vader_score_negative = [ ] \n",
    "my_vader_score_neutral = [ ] \n",
    "\n",
    "for i in range(len(sentences)):\n",
    "    my_analyzer = analyzer.polarity_scores(sentences.iloc[i])\n",
    "    my_vader_score_compound.append(my_analyzer['compound'])\n",
    "    my_vader_score_positive.append(my_analyzer['pos'])\n",
    "    my_vader_score_negative.append(my_analyzer['neg']) \n",
    "    my_vader_score_neutral.append(my_analyzer['neu']) \n",
    "\n",
    "\n",
    "#converting sentiment values to numpy for easier usage\n",
    "my_vader_score_compound = np.array(my_vader_score_compound)\n",
    "my_vader_score_positive = np.array(my_vader_score_positive)\n",
    "my_vader_score_negative = np.array(my_vader_score_negative)\n",
    "my_vader_score_neutral = np.array(my_vader_score_neutral)"
   ]
  },
  {
   "cell_type": "code",
   "execution_count": 45,
   "metadata": {},
   "outputs": [
    {
     "name": "stdout",
     "output_type": "stream",
     "text": [
      "                   \"Datetime\"    \"Tweet ID\"  \\\n",
      "0   2020-06-12 03:12:32+00:00  1.271280e+18   \n",
      "1   2020-02-24 04:18:05+00:00  1.231800e+18   \n",
      "2   2020-02-24 04:16:34+00:00  1.231800e+18   \n",
      "3   2020-02-24 01:27:53+00:00  1.231750e+18   \n",
      "4   2019-03-02 11:01:38+00:00  1.101800e+18   \n",
      "5   2019-01-30 11:34:29+00:00  1.090570e+18   \n",
      "6   2019-01-29 01:47:37+00:00  1.090060e+18   \n",
      "7   2018-12-01 11:33:15+00:00  1.068830e+18   \n",
      "8   2018-11-27 03:32:42+00:00  1.067260e+18   \n",
      "9   2018-11-27 03:29:32+00:00  1.067260e+18   \n",
      "10  2018-11-27 03:29:00+00:00  1.067260e+18   \n",
      "11  2018-09-10 11:33:17+00:00  1.039110e+18   \n",
      "12  2018-09-01 05:32:09+00:00  1.035760e+18   \n",
      "13  2018-04-28 12:37:17+00:00  9.902080e+17   \n",
      "14  2018-04-25 08:37:32+00:00  9.890610e+17   \n",
      "15  2018-04-25 08:36:58+00:00  9.890610e+17   \n",
      "\n",
      "                                     \"Text\"       \"Username\"   Score  postve  \\\n",
      "0   Full Time Tea Barista: Tea Tree Cafe...        FindSGJob  0.3818   0.066   \n",
      "1             Bus catches fire at one-north  ChannelNewsAsia -0.3400   0.000   \n",
      "2             Bus catches fire at one-north      AndyVermaut -0.3400   0.000   \n",
      "3   Damn, a private bus got its interior...       bryandmlee -0.2263   0.097   \n",
      "4   moovit singapore provide wrong info ...      palmoswince -0.4767   0.000   \n",
      "5   I hope we are able to get this apart...        Hartonope  0.4404   0.091   \n",
      "6   lyf one-north Singapore, offers 324 ...     Yasirmcheema -0.2960   0.000   \n",
      "7   Bus Service 191 will skip 9 bus stop...      LandTptGuru -0.1531   0.000   \n",
      "8   Auto Retweet SBSTransit_Ltd *AUTO SC...      speedknight -0.1531   0.000   \n",
      "9   [Notice-SBS] Service 191 to skip bus...        SG_Alerts -0.1531   0.000   \n",
      "10  Service 191 to skip bus stops along ...   SBSTransit_Ltd -0.1531   0.000   \n",
      "11  After 34 years of operations, Ayer R...      LandTptGuru  0.0000   0.000   \n",
      "12  New Transtar Cross-Border Bus Servic...      LandTptGuru  0.0000   0.000   \n",
      "13  Bus Service 191 will be diverted fro...      LandTptGuru  0.0000   0.000   \n",
      "14  [Notice-SBS] Service 191 will skip b...        SG_Alerts -0.1531   0.000   \n",
      "15  Service 191 will skip bus stops alon...   SBSTransit_Ltd -0.1531   0.000   \n",
      "\n",
      "      neg    neu  \n",
      "0   0.000  0.934  \n",
      "1   0.375  0.625  \n",
      "2   0.375  0.625  \n",
      "3   0.146  0.757  \n",
      "4   0.067  0.933  \n",
      "5   0.000  0.909  \n",
      "6   0.078  0.922  \n",
      "7   0.078  0.922  \n",
      "8   0.039  0.961  \n",
      "9   0.052  0.948  \n",
      "10  0.058  0.942  \n",
      "11  0.000  1.000  \n",
      "12  0.000  1.000  \n",
      "13  0.000  1.000  \n",
      "14  0.052  0.948  \n",
      "15  0.058  0.942  \n"
     ]
    },
    {
     "ename": "PermissionError",
     "evalue": "[Errno 13] Permission denied: 'C:\\\\Users\\\\Krystal Ong\\\\Desktop\\\\FYP\\\\export_twitterbus.csv'",
     "output_type": "error",
     "traceback": [
      "\u001b[1;31m---------------------------------------------------------------------------\u001b[0m",
      "\u001b[1;31mPermissionError\u001b[0m                           Traceback (most recent call last)",
      "\u001b[1;32m<ipython-input-45-77329de3722c>\u001b[0m in \u001b[0;36m<module>\u001b[1;34m()\u001b[0m\n\u001b[0;32m     10\u001b[0m \u001b[0mprint\u001b[0m \u001b[1;33m(\u001b[0m\u001b[0mbdata\u001b[0m\u001b[1;33m)\u001b[0m\u001b[1;33m\u001b[0m\u001b[0m\n\u001b[0;32m     11\u001b[0m \u001b[0mdf\u001b[0m \u001b[1;33m=\u001b[0m \u001b[0mpd\u001b[0m\u001b[1;33m.\u001b[0m\u001b[0mDataFrame\u001b[0m\u001b[1;33m(\u001b[0m\u001b[0mbdata\u001b[0m\u001b[1;33m,\u001b[0m \u001b[0mcolumns\u001b[0m \u001b[1;33m=\u001b[0m \u001b[1;33m[\u001b[0m\u001b[1;34m'Score'\u001b[0m\u001b[1;33m]\u001b[0m\u001b[1;33m)\u001b[0m\u001b[1;33m\u001b[0m\u001b[0m\n\u001b[1;32m---> 12\u001b[1;33m \u001b[0mdf\u001b[0m\u001b[1;33m.\u001b[0m\u001b[0mto_csv\u001b[0m \u001b[1;33m(\u001b[0m\u001b[1;34mr'C:\\Users\\Krystal Ong\\Desktop\\FYP\\export_twitterbus.csv'\u001b[0m\u001b[1;33m,\u001b[0m \u001b[0mindex\u001b[0m \u001b[1;33m=\u001b[0m \u001b[1;32mFalse\u001b[0m\u001b[1;33m,\u001b[0m \u001b[0mheader\u001b[0m\u001b[1;33m=\u001b[0m\u001b[1;32mTrue\u001b[0m\u001b[1;33m)\u001b[0m\u001b[1;33m\u001b[0m\u001b[0m\n\u001b[0m",
      "\u001b[1;32m~\\Downloads\\Anaconda\\lib\\site-packages\\pandas\\core\\frame.py\u001b[0m in \u001b[0;36mto_csv\u001b[1;34m(self, path_or_buf, sep, na_rep, float_format, columns, header, index, index_label, mode, encoding, compression, quoting, quotechar, line_terminator, chunksize, tupleize_cols, date_format, doublequote, escapechar, decimal)\u001b[0m\n\u001b[0;32m   1743\u001b[0m                                  \u001b[0mdoublequote\u001b[0m\u001b[1;33m=\u001b[0m\u001b[0mdoublequote\u001b[0m\u001b[1;33m,\u001b[0m\u001b[1;33m\u001b[0m\u001b[0m\n\u001b[0;32m   1744\u001b[0m                                  escapechar=escapechar, decimal=decimal)\n\u001b[1;32m-> 1745\u001b[1;33m         \u001b[0mformatter\u001b[0m\u001b[1;33m.\u001b[0m\u001b[0msave\u001b[0m\u001b[1;33m(\u001b[0m\u001b[1;33m)\u001b[0m\u001b[1;33m\u001b[0m\u001b[0m\n\u001b[0m\u001b[0;32m   1746\u001b[0m \u001b[1;33m\u001b[0m\u001b[0m\n\u001b[0;32m   1747\u001b[0m         \u001b[1;32mif\u001b[0m \u001b[0mpath_or_buf\u001b[0m \u001b[1;32mis\u001b[0m \u001b[1;32mNone\u001b[0m\u001b[1;33m:\u001b[0m\u001b[1;33m\u001b[0m\u001b[0m\n",
      "\u001b[1;32m~\\Downloads\\Anaconda\\lib\\site-packages\\pandas\\io\\formats\\csvs.py\u001b[0m in \u001b[0;36msave\u001b[1;34m(self)\u001b[0m\n\u001b[0;32m    134\u001b[0m             f, handles = _get_handle(self.path_or_buf, self.mode,\n\u001b[0;32m    135\u001b[0m                                      \u001b[0mencoding\u001b[0m\u001b[1;33m=\u001b[0m\u001b[0mencoding\u001b[0m\u001b[1;33m,\u001b[0m\u001b[1;33m\u001b[0m\u001b[0m\n\u001b[1;32m--> 136\u001b[1;33m                                      compression=None)\n\u001b[0m\u001b[0;32m    137\u001b[0m             \u001b[0mclose\u001b[0m \u001b[1;33m=\u001b[0m \u001b[1;32mTrue\u001b[0m \u001b[1;32mif\u001b[0m \u001b[0mself\u001b[0m\u001b[1;33m.\u001b[0m\u001b[0mcompression\u001b[0m \u001b[1;32mis\u001b[0m \u001b[1;32mNone\u001b[0m \u001b[1;32melse\u001b[0m \u001b[1;32mFalse\u001b[0m\u001b[1;33m\u001b[0m\u001b[0m\n\u001b[0;32m    138\u001b[0m \u001b[1;33m\u001b[0m\u001b[0m\n",
      "\u001b[1;32m~\\Downloads\\Anaconda\\lib\\site-packages\\pandas\\io\\common.py\u001b[0m in \u001b[0;36m_get_handle\u001b[1;34m(path_or_buf, mode, encoding, compression, memory_map, is_text)\u001b[0m\n\u001b[0;32m    398\u001b[0m         \u001b[1;32melif\u001b[0m \u001b[0mencoding\u001b[0m\u001b[1;33m:\u001b[0m\u001b[1;33m\u001b[0m\u001b[0m\n\u001b[0;32m    399\u001b[0m             \u001b[1;31m# Python 3 and encoding\u001b[0m\u001b[1;33m\u001b[0m\u001b[1;33m\u001b[0m\u001b[0m\n\u001b[1;32m--> 400\u001b[1;33m             \u001b[0mf\u001b[0m \u001b[1;33m=\u001b[0m \u001b[0mopen\u001b[0m\u001b[1;33m(\u001b[0m\u001b[0mpath_or_buf\u001b[0m\u001b[1;33m,\u001b[0m \u001b[0mmode\u001b[0m\u001b[1;33m,\u001b[0m \u001b[0mencoding\u001b[0m\u001b[1;33m=\u001b[0m\u001b[0mencoding\u001b[0m\u001b[1;33m)\u001b[0m\u001b[1;33m\u001b[0m\u001b[0m\n\u001b[0m\u001b[0;32m    401\u001b[0m         \u001b[1;32melif\u001b[0m \u001b[0mis_text\u001b[0m\u001b[1;33m:\u001b[0m\u001b[1;33m\u001b[0m\u001b[0m\n\u001b[0;32m    402\u001b[0m             \u001b[1;31m# Python 3 and no explicit encoding\u001b[0m\u001b[1;33m\u001b[0m\u001b[1;33m\u001b[0m\u001b[0m\n",
      "\u001b[1;31mPermissionError\u001b[0m: [Errno 13] Permission denied: 'C:\\\\Users\\\\Krystal Ong\\\\Desktop\\\\FYP\\\\export_twitterbus.csv'"
     ]
    }
   ],
   "source": [
    "bdata['Score'] = my_vader_score_compound\n",
    "bdata['postve'] = my_vader_score_positive\n",
    "bdata['neg'] = my_vader_score_negative\n",
    "bdata['neu'] = my_vader_score_neutral\n",
    "\n",
    "# This option is just to restrict the column width for printing purposes.\n",
    "pd.options.display.max_colwidth = 40\n",
    "\n",
    "# Print the dataframe\n",
    "print (bdata)\n",
    "df = pd.DataFrame(bdata, columns = ['Score'])\n",
    "df.to_csv (r'C:\\Users\\Krystal Ong\\Desktop\\FYP\\export_twitterbus.csv', index = False, header=True)"
   ]
  },
  {
   "cell_type": "markdown",
   "metadata": {},
   "source": [
    "Based on the above Sentiment analysis of the Instagram comments:\n",
    "\n",
    "The sample outputs suggests that the comments are largely positive or neutral in regards to One North.\n",
    "\n",
    "- There are hardly any negative comments for One North as the scores are mostly 0."
   ]
  },
  {
   "cell_type": "markdown",
   "metadata": {},
   "source": [
    "# Instagram Wordcloud\n"
   ]
  },
  {
   "cell_type": "code",
   "execution_count": 84,
   "metadata": {},
   "outputs": [
    {
     "data": {
      "text/html": [
       "<div>\n",
       "<style scoped>\n",
       "    .dataframe tbody tr th:only-of-type {\n",
       "        vertical-align: middle;\n",
       "    }\n",
       "\n",
       "    .dataframe tbody tr th {\n",
       "        vertical-align: top;\n",
       "    }\n",
       "\n",
       "    .dataframe thead th {\n",
       "        text-align: right;\n",
       "    }\n",
       "</style>\n",
       "<table border=\"1\" class=\"dataframe\">\n",
       "  <thead>\n",
       "    <tr style=\"text-align: right;\">\n",
       "      <th></th>\n",
       "      <th>\"Datetime\"</th>\n",
       "      <th>\"Tweet ID\"</th>\n",
       "      <th>Text</th>\n",
       "      <th>\"Username\"</th>\n",
       "      <th>Score</th>\n",
       "    </tr>\n",
       "  </thead>\n",
       "  <tbody>\n",
       "    <tr>\n",
       "      <th>0</th>\n",
       "      <td>\"2020-10-14 11:55:59+00:00\"</td>\n",
       "      <td>1.320000e+18</td>\n",
       "      <td>\"I think there 2019s a major power fault affec...</td>\n",
       "      <td>\"JoakimGomez\"</td>\n",
       "      <td>-0.8360</td>\n",
       "    </tr>\n",
       "    <tr>\n",
       "      <th>1</th>\n",
       "      <td>\"2020-10-13 04:59:31+00:00\"</td>\n",
       "      <td>1.320000e+18</td>\n",
       "      <td>\"I witnessed a similar back-and-forth drama pl...</td>\n",
       "      <td>\"visakanv\"</td>\n",
       "      <td>-0.7974</td>\n",
       "    </tr>\n",
       "    <tr>\n",
       "      <th>2</th>\n",
       "      <td>\"2019-12-31 15:34:41+00:00\"</td>\n",
       "      <td>1.210000e+18</td>\n",
       "      <td>\"@kennesu_g the dream of working in z, bc its ...</td>\n",
       "      <td>\"CyanRhapsody\"</td>\n",
       "      <td>-0.7430</td>\n",
       "    </tr>\n",
       "    <tr>\n",
       "      <th>3</th>\n",
       "      <td>\"2019-11-12 10:49:25+00:00\"</td>\n",
       "      <td>1.190000e+18</td>\n",
       "      <td>\"This old man took  at had the nerve to push m...</td>\n",
       "      <td>\"RRdzan\"</td>\n",
       "      <td>-0.7351</td>\n",
       "    </tr>\n",
       "    <tr>\n",
       "      <th>4</th>\n",
       "      <td>\"2019-05-09 11:11:30+00:00\"</td>\n",
       "      <td>1.130000e+18</td>\n",
       "      <td>\"Been working at for two years , but I never r...</td>\n",
       "      <td>\"kuayunie\"</td>\n",
       "      <td>-0.6249</td>\n",
       "    </tr>\n",
       "  </tbody>\n",
       "</table>\n",
       "</div>"
      ],
      "text/plain": [
       "                    \"Datetime\"    \"Tweet ID\"  \\\n",
       "0  \"2020-10-14 11:55:59+00:00\"  1.320000e+18   \n",
       "1  \"2020-10-13 04:59:31+00:00\"  1.320000e+18   \n",
       "2  \"2019-12-31 15:34:41+00:00\"  1.210000e+18   \n",
       "3  \"2019-11-12 10:49:25+00:00\"  1.190000e+18   \n",
       "4  \"2019-05-09 11:11:30+00:00\"  1.130000e+18   \n",
       "\n",
       "                                                Text      \"Username\"   Score  \n",
       "0  \"I think there 2019s a major power fault affec...   \"JoakimGomez\" -0.8360  \n",
       "1  \"I witnessed a similar back-and-forth drama pl...      \"visakanv\" -0.7974  \n",
       "2  \"@kennesu_g the dream of working in z, bc its ...  \"CyanRhapsody\" -0.7430  \n",
       "3  \"This old man took  at had the nerve to push m...        \"RRdzan\" -0.7351  \n",
       "4  \"Been working at for two years , but I never r...      \"kuayunie\" -0.6249  "
      ]
     },
     "execution_count": 84,
     "metadata": {},
     "output_type": "execute_result"
    }
   ],
   "source": [
    "data = pd.read_csv('twitter_newMRT_data - Copy.csv', header=0, encoding='latin1')\n",
    "data.head()\n"
   ]
  },
  {
   "cell_type": "code",
   "execution_count": 85,
   "metadata": {},
   "outputs": [
    {
     "name": "stdout",
     "output_type": "stream",
     "text": [
      "\n",
      "Number of records in train  :  55\n"
     ]
    }
   ],
   "source": [
    "print(\"\\nNumber of records in train  : \", len(data))"
   ]
  },
  {
   "cell_type": "code",
   "execution_count": 86,
   "metadata": {},
   "outputs": [
    {
     "data": {
      "text/plain": [
       "'\"I\\xa0think there 2019s\\xa0a\\xa0major\\xa0power\\xa0fault\\xa0affecting\\xa0a\\xa0lot\\xa0of\\xa0\\xa0s\\xa0in\\xa0.\\xa0-\\xa0\\xa0which\\xa0is\\xa0the\\xa0\\xa0\\xa0has\\xa0stopped\\xa0s.\\xa0\\xa0note.\\xa0And\\xa0follow\\xa0@\\xa0for\\xa0more\\xa0updates.Either\\xa0that\\xa0or\\xa0angry\\xa0an\\xa0tweets\\xa0hahaha. inconvenient\"'"
      ]
     },
     "execution_count": 86,
     "metadata": {},
     "output_type": "execute_result"
    }
   ],
   "source": [
    "#test\n",
    "data.Text.iloc[0]"
   ]
  },
  {
   "cell_type": "code",
   "execution_count": 87,
   "metadata": {},
   "outputs": [],
   "source": [
    "from os import path\n",
    "from PIL import Image\n",
    "from wordcloud import WordCloud, STOPWORDS, ImageColorGenerator\n",
    "import matplotlib.pyplot as plt\n",
    "\n"
   ]
  },
  {
   "cell_type": "code",
   "execution_count": 88,
   "metadata": {},
   "outputs": [
    {
     "data": {
      "image/png": "[encoded data removed]",
      "text/plain": [
       "<Figure size 432x288 with 1 Axes>"
      ]
     },
     "metadata": {
      "needs_background": "light"
     },
     "output_type": "display_data"
    }
   ],
   "source": [
    "text = \" \".join(t for t in data.Text)\n",
    "wordcloud = WordCloud(max_font_size=120, max_words=50, background_color=\"white\").generate(text)\n",
    "plt.figure()\n",
    "\n",
    "# Use the option interpolation = \"bilinear\" to smoothen the graphic.\n",
    "plt.imshow(wordcloud, interpolation=\"bilinear\")\n",
    "plt.axis(\"off\")\n",
    "plt.show()"
   ]
  },
  {
   "cell_type": "code",
   "execution_count": 89,
   "metadata": {},
   "outputs": [
    {
     "data": {
      "text/plain": [
       "<wordcloud.wordcloud.WordCloud at 0x26f08b39470>"
      ]
     },
     "execution_count": 89,
     "metadata": {},
     "output_type": "execute_result"
    }
   ],
   "source": [
    "# Save the image in the img folder:\n",
    "wordcloud.to_file(\"twitterwordcloud2.png\")"
   ]
  },
  {
   "cell_type": "code",
   "execution_count": null,
   "metadata": {},
   "outputs": [],
   "source": []
  }
 ],
 "metadata": {
  "kernelspec": {
   "display_name": "Python 3",
   "language": "python",
   "name": "python3"
  },
  "language_info": {
   "codemirror_mode": {
    "name": "ipython",
    "version": 3
   },
   "file_extension": ".py",
   "mimetype": "text/x-python",
   "name": "python",
   "nbconvert_exporter": "python",
   "pygments_lexer": "ipython3",
   "version": "3.8.5"
  },
  "toc": {
   "base_numbering": 1,
   "nav_menu": {},
   "number_sections": true,
   "sideBar": true,
   "skip_h1_title": false,
   "title_cell": "Table of Contents",
   "title_sidebar": "Contents",
   "toc_cell": false,
   "toc_position": {},
   "toc_section_display": true,
   "toc_window_display": false
  },
  "varInspector": {
   "cols": {
    "lenName": 16,
    "lenType": 16,
    "lenVar": 40
   },
   "kernels_config": {
    "python": {
     "delete_cmd_postfix": "",
     "delete_cmd_prefix": "del ",
     "library": "var_list.py",
     "varRefreshCmd": "print(var_dic_list())"
    },
    "r": {
     "delete_cmd_postfix": ") ",
     "delete_cmd_prefix": "rm(",
     "library": "var_list.r",
     "varRefreshCmd": "cat(var_dic_list()) "
    }
   },
   "types_to_exclude": [
    "module",
    "function",
    "builtin_function_or_method",
    "instance",
    "_Feature"
   ],
   "window_display": false
  }
 },
 "nbformat": 4,
 "nbformat_minor": 2
}
